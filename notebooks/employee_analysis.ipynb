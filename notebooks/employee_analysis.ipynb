{
 "cells": [
  {
   "cell_type": "markdown",
   "metadata": {},
   "source": [
    "# Data Engineering & EDA Workshop\n",
    "\n",
    "This notebook performs a comprehensive data engineering and exploratory data analysis (EDA) on synthetic employee data. I have used a PostgreSQL database hosted on Neon.tech, Python with Pandas, and visualization libraries to analyze employee records, including salaries, positions, and departmental data.\n",
    "\n",
    "## Objectives\n",
    "- Set up and populate a cloud-based PostgreSQL database.\n",
    "- Perform data cleaning, transformation, and scaling.\n",
    "- Conduct EDA with descriptive statistics and visualizations.\n",
    "- Create standard and advanced visualizations to uncover insights."
   ]
  },
  {
   "cell_type": "markdown",
   "metadata": {},
   "source": [
    "## 1. Data Collection\n",
    "\n",
    "### Database Setup\n",
    "I have created a free PostgreSQL database on [Neon.tech](https://neon.tech). The database contains two tables:\n",
    "- **employees**: Stores employee details (employee_id, name, position, start_date, salary).\n",
    "- **departments**: Stores department details (dept_id, dept_name, location, budget).\n",
    "\n",
    "### Data Generation\n",
    "Using the `Faker` library, I generated 50 synthetic employee records with realistic names, IT-related positions (Software Engineer, Data Analyst, DevOps Engineer), hire dates between 2015 and 2024, and salaries between $60,000 and $200,000. I also generated 5 department records.\n",
    "\n",
    "### Database Connection\n",
    "I use the `SecureDBConnection` class to connect to the Neon.tech database securely, using environment variables for credentials and SSL for encryption. The data is queried and loaded into a Pandas DataFrame."
   ]
  },
  {
   "cell_type": "markdown",
   "metadata": {},
   "source": [
    "Installation of the required libraries to avoid errors in case requirements.txt is not installed properly. ( \"%%capture\" used for remove long installation details from the field for better view)"
   ]
  },
  {
   "cell_type": "code",
   "execution_count": 7,
   "metadata": {},
   "outputs": [],
   "source": [
    "%%capture\n",
    "%pip install pandas\n",
    "%pip install psycopg2-binary\n",
    "%pip install faker\n",
    "%pip install python-dotenv\n",
    "%pip install matplotlib\n",
    "%pip install seaborn\n",
    "%pip install scikit-learn\n",
    "%pip install ipywidgets\n",
    "%pip install jinja2"
   ]
  },
  {
   "cell_type": "markdown",
   "metadata": {},
   "source": [
    "( Refactored the lengthy Python script into smaller, modular segments to enhance readability and maintainability, while also adding functionality to each segment.)"
   ]
  },
  {
   "cell_type": "markdown",
   "metadata": {},
   "source": [
    "This section imports the necessary Python libraries for database connectivity, data generation, and data manipulation. It sets up the foundation for connecting to a PostgreSQL database, generating synthetic data, and loading data into a Pandas DataFrame."
   ]
  },
  {
   "cell_type": "code",
   "execution_count": 21,
   "metadata": {},
   "outputs": [],
   "source": [
    "import pandas as pd\n",
    "import psycopg2\n",
    "from faker import Faker\n",
    "import random\n",
    "from datetime import date\n",
    "import os\n",
    "from dotenv import load_dotenv\n",
    "from psycopg2 import OperationalError\n",
    "from IPython.display import display, Markdown, HTML\n",
    "from ipywidgets import interact\n",
    "import seaborn as sns\n",
    "import matplotlib.pyplot as plt\n",
    "import io"
   ]
  },
  {
   "cell_type": "code",
   "execution_count": 9,
   "metadata": {},
   "outputs": [],
   "source": [
    "sns.set_style('whitegrid')\n",
    "plt.rcParams['figure.figsize'] = (8, 4)"
   ]
  },
  {
   "cell_type": "markdown",
   "metadata": {},
   "source": [
    "## Secure Database Connection\n",
    "\n",
    "The `SecureDBConnection` class handles secure connections to a PostgreSQL database using environment variables and SSL. It:\n",
    "- Loads credentials from a `.env` file.\n",
    "- Validates that required environment variables (`DB_HOST`, `DB_NAME`, `DB_USER`, `DB_PASSWORD`) are set.\n",
    "- Establishes a connection with SSL (`sslmode='require'`).\n",
    "- Supports context management (`with` statement) for automatic connection closure."
   ]
  },
  {
   "cell_type": "code",
   "execution_count": 10,
   "metadata": {},
   "outputs": [],
   "source": [
    "class SecureDBConnection:\n",
    "    \"\"\"Secure and reusable PostgreSQL connection handler using environment variables and SSL.\"\"\"\n",
    "\n",
    "    def __init__(self):\n",
    "        load_dotenv()\n",
    "        self.conn = None\n",
    "        self._validate_env_vars()\n",
    "\n",
    "    def _validate_env_vars(self):\n",
    "        \"\"\"Ensure all required environment variables are set.\"\"\"\n",
    "        required_vars = ['DB_HOST', 'DB_NAME', 'DB_USER', 'DB_PASSWORD']\n",
    "        missing = [var for var in required_vars if not os.getenv(var)]\n",
    "        if missing:\n",
    "            raise EnvironmentError(f\"Missing environment variables: {', '.join(missing)}\")\n",
    "\n",
    "    def connect(self):\n",
    "        \"\"\"Establish a secure PostgreSQL connection using SSL.\"\"\"\n",
    "        try:\n",
    "            conn_str = (\n",
    "                f\"dbname='{os.getenv('DB_NAME')}' \"\n",
    "                f\"user='{os.getenv('DB_USER')}' \"\n",
    "                f\"password='{os.getenv('DB_PASSWORD')}' \"\n",
    "                f\"host='{os.getenv('DB_HOST')}' sslmode='require'\"\n",
    "            )\n",
    "            self.conn = psycopg2.connect(conn_str)\n",
    "            return self.conn\n",
    "        except OperationalError as e:\n",
    "            raise ConnectionError(f\"Database connection failed: {e}\")\n",
    "\n",
    "    def close(self):\n",
    "        \"\"\"Close the database connection if it exists.\"\"\"\n",
    "        if self.conn:\n",
    "            self.conn.close()\n",
    "            self.conn = None\n",
    "\n",
    "    def __enter__(self):\n",
    "        \"\"\"Enable use as a context manager (`with` statement).\"\"\"\n",
    "        return self.connect()\n",
    "\n",
    "    def __exit__(self, exc_type, exc_value, traceback):\n",
    "        \"\"\"Ensure the connection is closed when exiting the context.\"\"\"\n",
    "        self.close()"
   ]
  },
  {
   "cell_type": "markdown",
   "metadata": {},
   "source": [
    "## Synthetic Data Configuration\n",
    "\n",
    "This section defines the data structures for generating synthetic employee and department data:\n",
    "- `POSITION_SALARIES`: A dictionary mapping IT job titles (e.g., Software Engineer) to salary ranges.\n",
    "- `DEPARTMENTS`: A list of tuples containing department details (name, location, budget).\n",
    "- `generate_employees`: A function that uses the `Faker` library to create synthetic employee records, including names, positions, hire dates, salaries, and department assignments."
   ]
  },
  {
   "cell_type": "code",
   "execution_count": 11,
   "metadata": {},
   "outputs": [],
   "source": [
    "# Define position salary ranges\n",
    "POSITION_SALARIES = {\n",
    "    'Software Engineer': (80000, 160000),\n",
    "    'Data Analyst': (60000, 120000),\n",
    "    'DevOps Engineer': (90000, 180000),\n",
    "}\n",
    "\n",
    "# Define department details\n",
    "DEPARTMENTS = [\n",
    "    ('Engineering', 'San Francisco', 5000000),\n",
    "    ('Data Science', 'New York', 3000000),\n",
    "    ('Operations', 'Chicago', 2000000),\n",
    "    ('Product', 'Austin', 2500000),\n",
    "    ('Research', 'Boston', 3500000),\n",
    "]\n",
    "\n",
    "def generate_employees(num_records=50):\n",
    "    \"\"\"Generate synthetic employee data using Faker.\"\"\"\n",
    "    fake = Faker()\n",
    "    Faker.seed(42)  # For reproducibility\n",
    "    employees = []\n",
    "    \n",
    "    for i in range(num_records):\n",
    "        position = random.choice(list(POSITION_SALARIES))\n",
    "        min_sal, max_sal = POSITION_SALARIES[position]\n",
    "        name = fake.unique.name()\n",
    "        hire_date = fake.date_between(start_date=date(2015, 1, 1), end_date=date(2024, 6, 1))\n",
    "        salary = random.randint(min_sal, max_sal)\n",
    "        dept_id = random.randint(1, len(DEPARTMENTS))  # Random department assignment\n",
    "        employees.append((i+1, name, position, hire_date, salary, dept_id))\n",
    "    \n",
    "    return employees"
   ]
  },
  {
   "cell_type": "markdown",
   "metadata": {},
   "source": [
    "## Database Table Creation and Population\n",
    "\n",
    "This section creates and populates the `departments` and `employees` tables in the PostgreSQL database:\n",
    "- Creates the `departments` table with columns for `dept_id`, `dept_name`, `location`, and `budget`.\n",
    "- Creates the `employees` table with columns for `employee_id`, `name`, `position`, `start_date`, `salary`, and `dept_id` (with a foreign key to `departments`).\n",
    "- Inserts department data from `DEPARTMENTS`.\n",
    "- Generates and inserts 50 employee records using `generate_employees`.\n",
    "- Commits the changes to the database.\n",
    "- Ensured both tables are dropped before creation to avoid issues caused by field mismatches."
   ]
  },
  {
   "cell_type": "code",
   "execution_count": 12,
   "metadata": {},
   "outputs": [],
   "source": [
    "# Create and populate tables\n",
    "with SecureDBConnection() as conn:\n",
    "    cursor = conn.cursor()\n",
    "\n",
    "    # Drop foreign key constraint if it exists\n",
    "    cursor.execute(\"\"\"\n",
    "        DO $$\n",
    "        BEGIN\n",
    "            IF EXISTS (\n",
    "                SELECT 1\n",
    "                FROM information_schema.table_constraints\n",
    "                WHERE constraint_name = 'fk_department'\n",
    "                AND table_name = 'employees'\n",
    "            ) THEN\n",
    "                ALTER TABLE employees DROP CONSTRAINT fk_department;\n",
    "            END IF;\n",
    "        END\n",
    "        $$;\n",
    "    \"\"\")\n",
    "\n",
    "    # Drop and recreate departments table\n",
    "    cursor.execute(\"\"\"\n",
    "        DROP TABLE IF EXISTS departments CASCADE;\n",
    "        CREATE TABLE departments (\n",
    "            dept_id INTEGER PRIMARY KEY,\n",
    "            dept_name VARCHAR(100),\n",
    "            location VARCHAR(100),\n",
    "            budget INTEGER\n",
    "        );\n",
    "    \"\"\")\n",
    "\n",
    "    # Drop and recreate employees table\n",
    "    cursor.execute(\"\"\"\n",
    "        DROP TABLE IF EXISTS employees CASCADE;\n",
    "        CREATE TABLE employees (\n",
    "            employee_id INTEGER PRIMARY KEY,\n",
    "            name VARCHAR(100),\n",
    "            position VARCHAR(100),\n",
    "            start_date DATE,\n",
    "            salary INTEGER,\n",
    "            dept_id INTEGER\n",
    "        );\n",
    "    \"\"\")\n",
    "\n",
    "    # Add foreign key constraint\n",
    "    cursor.execute(\"\"\"\n",
    "        ALTER TABLE employees\n",
    "        ADD CONSTRAINT fk_department\n",
    "        FOREIGN KEY (dept_id) REFERENCES departments(dept_id);\n",
    "    \"\"\")\n",
    "\n",
    "    # Insert departments\n",
    "    cursor.executemany(\n",
    "        \"INSERT INTO departments (dept_id, dept_name, location, budget) VALUES (%s, %s, %s, %s)\",\n",
    "        [(i + 1, name, loc, budget) for i, (name, loc, budget) in enumerate(DEPARTMENTS)]\n",
    "    )\n",
    "\n",
    "    # Insert employees\n",
    "    employees = generate_employees()\n",
    "    cursor.executemany(\n",
    "        \"INSERT INTO employees (employee_id, name, position, start_date, salary, dept_id) VALUES (%s, %s, %s, %s, %s, %s)\",\n",
    "        employees\n",
    "    )\n",
    "\n",
    "    conn.commit()\n"
   ]
  },
  {
   "cell_type": "markdown",
   "metadata": {},
   "source": [
    "## Data Loading into Pandas\n",
    "\n",
    "This section queries the database to load employee and department data into a Pandas DataFrame:\n",
    "- Executes a SQL query to join the `employees` and `departments` tables, retrieving all employee details along with department name, location, and budget.\n",
    "- Loads the result into a Pandas DataFrame (`df_employees`).\n",
    "- Displays the first few rows of the DataFrame to verify the data."
   ]
  },
  {
   "cell_type": "code",
   "execution_count": 13,
   "metadata": {},
   "outputs": [
    {
     "name": "stderr",
     "output_type": "stream",
     "text": [
      "C:\\Users\\fasal\\AppData\\Local\\Temp\\ipykernel_10556\\2474109029.py:3: UserWarning: pandas only supports SQLAlchemy connectable (engine/connection) or database string URI or sqlite3 DBAPI2 connection. Other DBAPI2 objects are not tested. Please consider using SQLAlchemy.\n",
      "  df_employees = pd.read_sql(\"SELECT e.*, d.dept_name, d.location, d.budget FROM employees e JOIN departments d ON e.dept_id = d.dept_id\", conn)\n"
     ]
    },
    {
     "data": {
      "application/vnd.microsoft.datawrangler.viewer.v0+json": {
       "columns": [
        {
         "name": "index",
         "rawType": "int64",
         "type": "integer"
        },
        {
         "name": "employee_id",
         "rawType": "int64",
         "type": "integer"
        },
        {
         "name": "name",
         "rawType": "object",
         "type": "string"
        },
        {
         "name": "position",
         "rawType": "object",
         "type": "string"
        },
        {
         "name": "start_date",
         "rawType": "object",
         "type": "unknown"
        },
        {
         "name": "salary",
         "rawType": "int64",
         "type": "integer"
        },
        {
         "name": "dept_id",
         "rawType": "int64",
         "type": "integer"
        },
        {
         "name": "dept_name",
         "rawType": "object",
         "type": "string"
        },
        {
         "name": "location",
         "rawType": "object",
         "type": "string"
        },
        {
         "name": "budget",
         "rawType": "int64",
         "type": "integer"
        }
       ],
       "ref": "bfa3f9e9-0867-432e-96db-708060b5c7f3",
       "rows": [
        [
         "0",
         "1",
         "Allison Hill",
         "DevOps Engineer",
         "2018-10-18",
         "142223",
         "1",
         "Engineering",
         "San Francisco",
         "5000000"
        ],
        [
         "1",
         "2",
         "Brian Yang",
         "Data Analyst",
         "2024-04-11",
         "79656",
         "1",
         "Engineering",
         "San Francisco",
         "5000000"
        ],
        [
         "2",
         "3",
         "Javier Johnson",
         "DevOps Engineer",
         "2018-09-20",
         "175404",
         "1",
         "Engineering",
         "San Francisco",
         "5000000"
        ],
        [
         "3",
         "4",
         "Lance Hoffman",
         "Data Analyst",
         "2024-04-09",
         "63511",
         "2",
         "Data Science",
         "New York",
         "3000000"
        ],
        [
         "4",
         "5",
         "Jerry Ramirez",
         "Data Analyst",
         "2015-02-10",
         "93525",
         "1",
         "Engineering",
         "San Francisco",
         "5000000"
        ]
       ],
       "shape": {
        "columns": 9,
        "rows": 5
       }
      },
      "text/html": [
       "<div>\n",
       "<style scoped>\n",
       "    .dataframe tbody tr th:only-of-type {\n",
       "        vertical-align: middle;\n",
       "    }\n",
       "\n",
       "    .dataframe tbody tr th {\n",
       "        vertical-align: top;\n",
       "    }\n",
       "\n",
       "    .dataframe thead th {\n",
       "        text-align: right;\n",
       "    }\n",
       "</style>\n",
       "<table border=\"1\" class=\"dataframe\">\n",
       "  <thead>\n",
       "    <tr style=\"text-align: right;\">\n",
       "      <th></th>\n",
       "      <th>employee_id</th>\n",
       "      <th>name</th>\n",
       "      <th>position</th>\n",
       "      <th>start_date</th>\n",
       "      <th>salary</th>\n",
       "      <th>dept_id</th>\n",
       "      <th>dept_name</th>\n",
       "      <th>location</th>\n",
       "      <th>budget</th>\n",
       "    </tr>\n",
       "  </thead>\n",
       "  <tbody>\n",
       "    <tr>\n",
       "      <th>0</th>\n",
       "      <td>1</td>\n",
       "      <td>Allison Hill</td>\n",
       "      <td>DevOps Engineer</td>\n",
       "      <td>2018-10-18</td>\n",
       "      <td>142223</td>\n",
       "      <td>1</td>\n",
       "      <td>Engineering</td>\n",
       "      <td>San Francisco</td>\n",
       "      <td>5000000</td>\n",
       "    </tr>\n",
       "    <tr>\n",
       "      <th>1</th>\n",
       "      <td>2</td>\n",
       "      <td>Brian Yang</td>\n",
       "      <td>Data Analyst</td>\n",
       "      <td>2024-04-11</td>\n",
       "      <td>79656</td>\n",
       "      <td>1</td>\n",
       "      <td>Engineering</td>\n",
       "      <td>San Francisco</td>\n",
       "      <td>5000000</td>\n",
       "    </tr>\n",
       "    <tr>\n",
       "      <th>2</th>\n",
       "      <td>3</td>\n",
       "      <td>Javier Johnson</td>\n",
       "      <td>DevOps Engineer</td>\n",
       "      <td>2018-09-20</td>\n",
       "      <td>175404</td>\n",
       "      <td>1</td>\n",
       "      <td>Engineering</td>\n",
       "      <td>San Francisco</td>\n",
       "      <td>5000000</td>\n",
       "    </tr>\n",
       "    <tr>\n",
       "      <th>3</th>\n",
       "      <td>4</td>\n",
       "      <td>Lance Hoffman</td>\n",
       "      <td>Data Analyst</td>\n",
       "      <td>2024-04-09</td>\n",
       "      <td>63511</td>\n",
       "      <td>2</td>\n",
       "      <td>Data Science</td>\n",
       "      <td>New York</td>\n",
       "      <td>3000000</td>\n",
       "    </tr>\n",
       "    <tr>\n",
       "      <th>4</th>\n",
       "      <td>5</td>\n",
       "      <td>Jerry Ramirez</td>\n",
       "      <td>Data Analyst</td>\n",
       "      <td>2015-02-10</td>\n",
       "      <td>93525</td>\n",
       "      <td>1</td>\n",
       "      <td>Engineering</td>\n",
       "      <td>San Francisco</td>\n",
       "      <td>5000000</td>\n",
       "    </tr>\n",
       "  </tbody>\n",
       "</table>\n",
       "</div>"
      ],
      "text/plain": [
       "   employee_id            name         position  start_date  salary  dept_id  \\\n",
       "0            1    Allison Hill  DevOps Engineer  2018-10-18  142223        1   \n",
       "1            2      Brian Yang     Data Analyst  2024-04-11   79656        1   \n",
       "2            3  Javier Johnson  DevOps Engineer  2018-09-20  175404        1   \n",
       "3            4   Lance Hoffman     Data Analyst  2024-04-09   63511        2   \n",
       "4            5   Jerry Ramirez     Data Analyst  2015-02-10   93525        1   \n",
       "\n",
       "      dept_name       location   budget  \n",
       "0   Engineering  San Francisco  5000000  \n",
       "1   Engineering  San Francisco  5000000  \n",
       "2   Engineering  San Francisco  5000000  \n",
       "3  Data Science       New York  3000000  \n",
       "4   Engineering  San Francisco  5000000  "
      ]
     },
     "execution_count": 13,
     "metadata": {},
     "output_type": "execute_result"
    }
   ],
   "source": [
    "# Load data into Pandas DataFrame\n",
    "with SecureDBConnection() as conn:\n",
    "    df_employees = pd.read_sql(\"SELECT e.*, d.dept_name, d.location, d.budget FROM employees e JOIN departments d ON e.dept_id = d.dept_id\", conn)\n",
    "\n",
    "# Display first few rows\n",
    "df_employees.head()"
   ]
  },
  {
   "cell_type": "markdown",
   "metadata": {},
   "source": [
    "## Introducing Data Errors\n",
    "\n",
    "Before cleaning the data, we intentionally introduce errors and null values into the `employees` table to simulate real-world data quality issues. This section:\n",
    "- Updates specific records in the database to include:\n",
    "  - Negative or unrealistic salaries (e.g., -1000, 9999999).\n",
    "  - Invalid start dates (e.g., future or very old dates).\n",
    "  - Null values for `name` or `position`.\n",
    "- Reloads the modified data into a Pandas DataFrame.\n",
    "- Displays the data to highlight the introduced issues, which will be addressed in the subsequent cleaning step."
   ]
  },
  {
   "cell_type": "code",
   "execution_count": 14,
   "metadata": {},
   "outputs": [
    {
     "name": "stdout",
     "output_type": "stream",
     "text": [
      "Errors and null values introduced successfully.\n"
     ]
    },
    {
     "name": "stderr",
     "output_type": "stream",
     "text": [
      "C:\\Users\\fasal\\AppData\\Local\\Temp\\ipykernel_10556\\3615546945.py:33: UserWarning: pandas only supports SQLAlchemy connectable (engine/connection) or database string URI or sqlite3 DBAPI2 connection. Other DBAPI2 objects are not tested. Please consider using SQLAlchemy.\n",
      "  df_employees_with_errors = pd.read_sql(\n"
     ]
    }
   ],
   "source": [
    "with SecureDBConnection() as conn:\n",
    "    cursor = conn.cursor()\n",
    "    try:\n",
    "        # Set negative salary for employee_id 1\n",
    "        cursor.execute(\"UPDATE employees SET salary = -1000 WHERE employee_id = 1;\")\n",
    "        \n",
    "        # Set unrealistic salary for employee_id 2\n",
    "        cursor.execute(\"UPDATE employees SET salary = 9999999 WHERE employee_id = 2;\")\n",
    "        \n",
    "        # Set future start_date for employee_id 3\n",
    "        cursor.execute(\"UPDATE employees SET start_date = '2026-01-01' WHERE employee_id = 3;\")\n",
    "        \n",
    "        # Set very old start_date for employee_id 4\n",
    "        cursor.execute(\"UPDATE employees SET start_date = '1900-01-01' WHERE employee_id = 4;\")\n",
    "        \n",
    "        # Set null name for employee_id 5\n",
    "        cursor.execute(\"UPDATE employees SET name = NULL WHERE employee_id = 5;\")\n",
    "        \n",
    "        # Set null position for employee_id 6\n",
    "        cursor.execute(\"UPDATE employees SET position = NULL WHERE employee_id = 6;\")\n",
    "        \n",
    "        conn.commit()\n",
    "        print(\"Errors and null values introduced successfully.\")\n",
    "    except Exception as e:\n",
    "        conn.rollback()\n",
    "        print(f\"Error introducing data issues: {e}\")\n",
    "        raise\n",
    "    finally:\n",
    "        cursor.close()\n",
    "\n",
    "# Reload modified data into Pandas DataFrame\n",
    "with SecureDBConnection() as conn:\n",
    "    df_employees_with_errors = pd.read_sql(\n",
    "        \"SELECT e.*, d.dept_name, d.location, d.budget FROM employees e JOIN departments d ON e.dept_id = d.dept_id\",\n",
    "        conn\n",
    "    )"
   ]
  },
  {
   "cell_type": "code",
   "execution_count": 15,
   "metadata": {},
   "outputs": [
    {
     "data": {
      "text/markdown": [
       "### Data with Introduced Errors"
      ],
      "text/plain": [
       "<IPython.core.display.Markdown object>"
      ]
     },
     "metadata": {},
     "output_type": "display_data"
    },
    {
     "data": {
      "text/html": [
       "<style type=\"text/css\">\n",
       "</style>\n",
       "<table id=\"T_82530\">\n",
       "  <caption>First 10 Rows with Errors (Nulls: Yellow, Invalid Salaries/Dates: Red)</caption>\n",
       "  <thead>\n",
       "    <tr>\n",
       "      <th class=\"blank level0\" >&nbsp;</th>\n",
       "      <th id=\"T_82530_level0_col0\" class=\"col_heading level0 col0\" >employee_id</th>\n",
       "      <th id=\"T_82530_level0_col1\" class=\"col_heading level0 col1\" >name</th>\n",
       "      <th id=\"T_82530_level0_col2\" class=\"col_heading level0 col2\" >position</th>\n",
       "      <th id=\"T_82530_level0_col3\" class=\"col_heading level0 col3\" >start_date</th>\n",
       "      <th id=\"T_82530_level0_col4\" class=\"col_heading level0 col4\" >salary</th>\n",
       "      <th id=\"T_82530_level0_col5\" class=\"col_heading level0 col5\" >dept_id</th>\n",
       "      <th id=\"T_82530_level0_col6\" class=\"col_heading level0 col6\" >dept_name</th>\n",
       "      <th id=\"T_82530_level0_col7\" class=\"col_heading level0 col7\" >location</th>\n",
       "      <th id=\"T_82530_level0_col8\" class=\"col_heading level0 col8\" >budget</th>\n",
       "    </tr>\n",
       "  </thead>\n",
       "  <tbody>\n",
       "    <tr>\n",
       "      <th id=\"T_82530_level0_row0\" class=\"row_heading level0 row0\" >0</th>\n",
       "      <td id=\"T_82530_row0_col0\" class=\"data row0 col0\" >7</td>\n",
       "      <td id=\"T_82530_row0_col1\" class=\"data row0 col1\" >Tyler Rogers</td>\n",
       "      <td id=\"T_82530_row0_col2\" class=\"data row0 col2\" >Data Analyst</td>\n",
       "      <td id=\"T_82530_row0_col3\" class=\"data row0 col3\" >2016-07-30</td>\n",
       "      <td id=\"T_82530_row0_col4\" class=\"data row0 col4\" >$112,124</td>\n",
       "      <td id=\"T_82530_row0_col5\" class=\"data row0 col5\" >2</td>\n",
       "      <td id=\"T_82530_row0_col6\" class=\"data row0 col6\" >Data Science</td>\n",
       "      <td id=\"T_82530_row0_col7\" class=\"data row0 col7\" >New York</td>\n",
       "      <td id=\"T_82530_row0_col8\" class=\"data row0 col8\" >$3,000,000</td>\n",
       "    </tr>\n",
       "    <tr>\n",
       "      <th id=\"T_82530_level0_row1\" class=\"row_heading level0 row1\" >1</th>\n",
       "      <td id=\"T_82530_row1_col0\" class=\"data row1 col0\" >8</td>\n",
       "      <td id=\"T_82530_row1_col1\" class=\"data row1 col1\" >Ian Cooper</td>\n",
       "      <td id=\"T_82530_row1_col2\" class=\"data row1 col2\" >DevOps Engineer</td>\n",
       "      <td id=\"T_82530_row1_col3\" class=\"data row1 col3\" >2019-07-02</td>\n",
       "      <td id=\"T_82530_row1_col4\" class=\"data row1 col4\" >$137,089</td>\n",
       "      <td id=\"T_82530_row1_col5\" class=\"data row1 col5\" >4</td>\n",
       "      <td id=\"T_82530_row1_col6\" class=\"data row1 col6\" >Product</td>\n",
       "      <td id=\"T_82530_row1_col7\" class=\"data row1 col7\" >Austin</td>\n",
       "      <td id=\"T_82530_row1_col8\" class=\"data row1 col8\" >$2,500,000</td>\n",
       "    </tr>\n",
       "    <tr>\n",
       "      <th id=\"T_82530_level0_row2\" class=\"row_heading level0 row2\" >2</th>\n",
       "      <td id=\"T_82530_row2_col0\" class=\"data row2 col0\" >9</td>\n",
       "      <td id=\"T_82530_row2_col1\" class=\"data row2 col1\" >Monica Herrera</td>\n",
       "      <td id=\"T_82530_row2_col2\" class=\"data row2 col2\" >DevOps Engineer</td>\n",
       "      <td id=\"T_82530_row2_col3\" class=\"data row2 col3\" >2021-06-10</td>\n",
       "      <td id=\"T_82530_row2_col4\" class=\"data row2 col4\" >$105,568</td>\n",
       "      <td id=\"T_82530_row2_col5\" class=\"data row2 col5\" >2</td>\n",
       "      <td id=\"T_82530_row2_col6\" class=\"data row2 col6\" >Data Science</td>\n",
       "      <td id=\"T_82530_row2_col7\" class=\"data row2 col7\" >New York</td>\n",
       "      <td id=\"T_82530_row2_col8\" class=\"data row2 col8\" >$3,000,000</td>\n",
       "    </tr>\n",
       "    <tr>\n",
       "      <th id=\"T_82530_level0_row3\" class=\"row_heading level0 row3\" >3</th>\n",
       "      <td id=\"T_82530_row3_col0\" class=\"data row3 col0\" >10</td>\n",
       "      <td id=\"T_82530_row3_col1\" class=\"data row3 col1\" >Edward Fuller</td>\n",
       "      <td id=\"T_82530_row3_col2\" class=\"data row3 col2\" >Software Engineer</td>\n",
       "      <td id=\"T_82530_row3_col3\" class=\"data row3 col3\" >2021-02-25</td>\n",
       "      <td id=\"T_82530_row3_col4\" class=\"data row3 col4\" >$104,649</td>\n",
       "      <td id=\"T_82530_row3_col5\" class=\"data row3 col5\" >1</td>\n",
       "      <td id=\"T_82530_row3_col6\" class=\"data row3 col6\" >Engineering</td>\n",
       "      <td id=\"T_82530_row3_col7\" class=\"data row3 col7\" >San Francisco</td>\n",
       "      <td id=\"T_82530_row3_col8\" class=\"data row3 col8\" >$5,000,000</td>\n",
       "    </tr>\n",
       "    <tr>\n",
       "      <th id=\"T_82530_level0_row4\" class=\"row_heading level0 row4\" >4</th>\n",
       "      <td id=\"T_82530_row4_col0\" class=\"data row4 col0\" >11</td>\n",
       "      <td id=\"T_82530_row4_col1\" class=\"data row4 col1\" >Michele Williams</td>\n",
       "      <td id=\"T_82530_row4_col2\" class=\"data row4 col2\" >Data Analyst</td>\n",
       "      <td id=\"T_82530_row4_col3\" class=\"data row4 col3\" >2018-11-17</td>\n",
       "      <td id=\"T_82530_row4_col4\" class=\"data row4 col4\" >$105,875</td>\n",
       "      <td id=\"T_82530_row4_col5\" class=\"data row4 col5\" >2</td>\n",
       "      <td id=\"T_82530_row4_col6\" class=\"data row4 col6\" >Data Science</td>\n",
       "      <td id=\"T_82530_row4_col7\" class=\"data row4 col7\" >New York</td>\n",
       "      <td id=\"T_82530_row4_col8\" class=\"data row4 col8\" >$3,000,000</td>\n",
       "    </tr>\n",
       "    <tr>\n",
       "      <th id=\"T_82530_level0_row5\" class=\"row_heading level0 row5\" >5</th>\n",
       "      <td id=\"T_82530_row5_col0\" class=\"data row5 col0\" >12</td>\n",
       "      <td id=\"T_82530_row5_col1\" class=\"data row5 col1\" >Victoria Wyatt</td>\n",
       "      <td id=\"T_82530_row5_col2\" class=\"data row5 col2\" >Software Engineer</td>\n",
       "      <td id=\"T_82530_row5_col3\" class=\"data row5 col3\" >2016-09-19</td>\n",
       "      <td id=\"T_82530_row5_col4\" class=\"data row5 col4\" >$81,476</td>\n",
       "      <td id=\"T_82530_row5_col5\" class=\"data row5 col5\" >3</td>\n",
       "      <td id=\"T_82530_row5_col6\" class=\"data row5 col6\" >Operations</td>\n",
       "      <td id=\"T_82530_row5_col7\" class=\"data row5 col7\" >Chicago</td>\n",
       "      <td id=\"T_82530_row5_col8\" class=\"data row5 col8\" >$2,000,000</td>\n",
       "    </tr>\n",
       "    <tr>\n",
       "      <th id=\"T_82530_level0_row6\" class=\"row_heading level0 row6\" >6</th>\n",
       "      <td id=\"T_82530_row6_col0\" class=\"data row6 col0\" >13</td>\n",
       "      <td id=\"T_82530_row6_col1\" class=\"data row6 col1\" >Jesse Flowers</td>\n",
       "      <td id=\"T_82530_row6_col2\" class=\"data row6 col2\" >DevOps Engineer</td>\n",
       "      <td id=\"T_82530_row6_col3\" class=\"data row6 col3\" >2017-10-07</td>\n",
       "      <td id=\"T_82530_row6_col4\" class=\"data row6 col4\" >$132,273</td>\n",
       "      <td id=\"T_82530_row6_col5\" class=\"data row6 col5\" >1</td>\n",
       "      <td id=\"T_82530_row6_col6\" class=\"data row6 col6\" >Engineering</td>\n",
       "      <td id=\"T_82530_row6_col7\" class=\"data row6 col7\" >San Francisco</td>\n",
       "      <td id=\"T_82530_row6_col8\" class=\"data row6 col8\" >$5,000,000</td>\n",
       "    </tr>\n",
       "    <tr>\n",
       "      <th id=\"T_82530_level0_row7\" class=\"row_heading level0 row7\" >7</th>\n",
       "      <td id=\"T_82530_row7_col0\" class=\"data row7 col0\" >14</td>\n",
       "      <td id=\"T_82530_row7_col1\" class=\"data row7 col1\" >Daniel Adams</td>\n",
       "      <td id=\"T_82530_row7_col2\" class=\"data row7 col2\" >Software Engineer</td>\n",
       "      <td id=\"T_82530_row7_col3\" class=\"data row7 col3\" >2016-03-19</td>\n",
       "      <td id=\"T_82530_row7_col4\" class=\"data row7 col4\" >$149,829</td>\n",
       "      <td id=\"T_82530_row7_col5\" class=\"data row7 col5\" >4</td>\n",
       "      <td id=\"T_82530_row7_col6\" class=\"data row7 col6\" >Product</td>\n",
       "      <td id=\"T_82530_row7_col7\" class=\"data row7 col7\" >Austin</td>\n",
       "      <td id=\"T_82530_row7_col8\" class=\"data row7 col8\" >$2,500,000</td>\n",
       "    </tr>\n",
       "    <tr>\n",
       "      <th id=\"T_82530_level0_row8\" class=\"row_heading level0 row8\" >8</th>\n",
       "      <td id=\"T_82530_row8_col0\" class=\"data row8 col0\" >15</td>\n",
       "      <td id=\"T_82530_row8_col1\" class=\"data row8 col1\" >Carolyn Daniel</td>\n",
       "      <td id=\"T_82530_row8_col2\" class=\"data row8 col2\" >DevOps Engineer</td>\n",
       "      <td id=\"T_82530_row8_col3\" class=\"data row8 col3\" >2017-10-12</td>\n",
       "      <td id=\"T_82530_row8_col4\" class=\"data row8 col4\" >$118,573</td>\n",
       "      <td id=\"T_82530_row8_col5\" class=\"data row8 col5\" >4</td>\n",
       "      <td id=\"T_82530_row8_col6\" class=\"data row8 col6\" >Product</td>\n",
       "      <td id=\"T_82530_row8_col7\" class=\"data row8 col7\" >Austin</td>\n",
       "      <td id=\"T_82530_row8_col8\" class=\"data row8 col8\" >$2,500,000</td>\n",
       "    </tr>\n",
       "    <tr>\n",
       "      <th id=\"T_82530_level0_row9\" class=\"row_heading level0 row9\" >9</th>\n",
       "      <td id=\"T_82530_row9_col0\" class=\"data row9 col0\" >16</td>\n",
       "      <td id=\"T_82530_row9_col1\" class=\"data row9 col1\" >Devin Schaefer</td>\n",
       "      <td id=\"T_82530_row9_col2\" class=\"data row9 col2\" >Data Analyst</td>\n",
       "      <td id=\"T_82530_row9_col3\" class=\"data row9 col3\" >2018-09-26</td>\n",
       "      <td id=\"T_82530_row9_col4\" class=\"data row9 col4\" >$104,611</td>\n",
       "      <td id=\"T_82530_row9_col5\" class=\"data row9 col5\" >2</td>\n",
       "      <td id=\"T_82530_row9_col6\" class=\"data row9 col6\" >Data Science</td>\n",
       "      <td id=\"T_82530_row9_col7\" class=\"data row9 col7\" >New York</td>\n",
       "      <td id=\"T_82530_row9_col8\" class=\"data row9 col8\" >$3,000,000</td>\n",
       "    </tr>\n",
       "  </tbody>\n",
       "</table>\n"
      ],
      "text/plain": [
       "<pandas.io.formats.style.Styler at 0x170dd4ddbe0>"
      ]
     },
     "metadata": {},
     "output_type": "display_data"
    },
    {
     "data": {
      "text/markdown": [
       "### Null Values"
      ],
      "text/plain": [
       "<IPython.core.display.Markdown object>"
      ]
     },
     "metadata": {},
     "output_type": "display_data"
    },
    {
     "data": {
      "text/html": [
       "<style type=\"text/css\">\n",
       "#T_fe581_row0_col0, #T_fe581_row3_col0, #T_fe581_row4_col0, #T_fe581_row5_col0, #T_fe581_row6_col0, #T_fe581_row7_col0, #T_fe581_row8_col0 {\n",
       "  width: 10em;\n",
       "}\n",
       "#T_fe581_row1_col0, #T_fe581_row2_col0 {\n",
       "  width: 10em;\n",
       "  background: linear-gradient(90deg, #3f57b9 100.0%, transparent 100.0%);\n",
       "}\n",
       "</style>\n",
       "<table id=\"T_fe581\">\n",
       "  <caption>Null Values by Column</caption>\n",
       "  <thead>\n",
       "    <tr>\n",
       "      <th class=\"blank level0\" >&nbsp;</th>\n",
       "      <th id=\"T_fe581_level0_col0\" class=\"col_heading level0 col0\" >Null Count</th>\n",
       "    </tr>\n",
       "  </thead>\n",
       "  <tbody>\n",
       "    <tr>\n",
       "      <th id=\"T_fe581_level0_row0\" class=\"row_heading level0 row0\" >employee_id</th>\n",
       "      <td id=\"T_fe581_row0_col0\" class=\"data row0 col0\" >0</td>\n",
       "    </tr>\n",
       "    <tr>\n",
       "      <th id=\"T_fe581_level0_row1\" class=\"row_heading level0 row1\" >name</th>\n",
       "      <td id=\"T_fe581_row1_col0\" class=\"data row1 col0\" >1</td>\n",
       "    </tr>\n",
       "    <tr>\n",
       "      <th id=\"T_fe581_level0_row2\" class=\"row_heading level0 row2\" >position</th>\n",
       "      <td id=\"T_fe581_row2_col0\" class=\"data row2 col0\" >1</td>\n",
       "    </tr>\n",
       "    <tr>\n",
       "      <th id=\"T_fe581_level0_row3\" class=\"row_heading level0 row3\" >start_date</th>\n",
       "      <td id=\"T_fe581_row3_col0\" class=\"data row3 col0\" >0</td>\n",
       "    </tr>\n",
       "    <tr>\n",
       "      <th id=\"T_fe581_level0_row4\" class=\"row_heading level0 row4\" >salary</th>\n",
       "      <td id=\"T_fe581_row4_col0\" class=\"data row4 col0\" >0</td>\n",
       "    </tr>\n",
       "    <tr>\n",
       "      <th id=\"T_fe581_level0_row5\" class=\"row_heading level0 row5\" >dept_id</th>\n",
       "      <td id=\"T_fe581_row5_col0\" class=\"data row5 col0\" >0</td>\n",
       "    </tr>\n",
       "    <tr>\n",
       "      <th id=\"T_fe581_level0_row6\" class=\"row_heading level0 row6\" >dept_name</th>\n",
       "      <td id=\"T_fe581_row6_col0\" class=\"data row6 col0\" >0</td>\n",
       "    </tr>\n",
       "    <tr>\n",
       "      <th id=\"T_fe581_level0_row7\" class=\"row_heading level0 row7\" >location</th>\n",
       "      <td id=\"T_fe581_row7_col0\" class=\"data row7 col0\" >0</td>\n",
       "    </tr>\n",
       "    <tr>\n",
       "      <th id=\"T_fe581_level0_row8\" class=\"row_heading level0 row8\" >budget</th>\n",
       "      <td id=\"T_fe581_row8_col0\" class=\"data row8 col0\" >0</td>\n",
       "    </tr>\n",
       "  </tbody>\n",
       "</table>\n"
      ],
      "text/plain": [
       "<pandas.io.formats.style.Styler at 0x170dd413110>"
      ]
     },
     "metadata": {},
     "output_type": "display_data"
    },
    {
     "data": {
      "text/markdown": [
       "### Summary Statistics"
      ],
      "text/plain": [
       "<IPython.core.display.Markdown object>"
      ]
     },
     "metadata": {},
     "output_type": "display_data"
    },
    {
     "data": {
      "text/html": [
       "<style type=\"text/css\">\n",
       "</style>\n",
       "<table id=\"T_6143f\">\n",
       "  <caption>Salary and Date Statistics</caption>\n",
       "  <thead>\n",
       "    <tr>\n",
       "      <th class=\"blank level0\" >&nbsp;</th>\n",
       "      <th id=\"T_6143f_level0_col0\" class=\"col_heading level0 col0\" >salary</th>\n",
       "    </tr>\n",
       "  </thead>\n",
       "  <tbody>\n",
       "    <tr>\n",
       "      <th id=\"T_6143f_level0_row0\" class=\"row_heading level0 row0\" >count</th>\n",
       "      <td id=\"T_6143f_row0_col0\" class=\"data row0 col0\" >$50</td>\n",
       "    </tr>\n",
       "    <tr>\n",
       "      <th id=\"T_6143f_level0_row1\" class=\"row_heading level0 row1\" >mean</th>\n",
       "      <td id=\"T_6143f_row1_col0\" class=\"data row1 col0\" >$311,487</td>\n",
       "    </tr>\n",
       "    <tr>\n",
       "      <th id=\"T_6143f_level0_row2\" class=\"row_heading level0 row2\" >std</th>\n",
       "      <td id=\"T_6143f_row2_col0\" class=\"data row2 col0\" >$1,398,512</td>\n",
       "    </tr>\n",
       "    <tr>\n",
       "      <th id=\"T_6143f_level0_row3\" class=\"row_heading level0 row3\" >min</th>\n",
       "      <td id=\"T_6143f_row3_col0\" class=\"data row3 col0\" >$-1,000</td>\n",
       "    </tr>\n",
       "    <tr>\n",
       "      <th id=\"T_6143f_level0_row4\" class=\"row_heading level0 row4\" >25%</th>\n",
       "      <td id=\"T_6143f_row4_col0\" class=\"data row4 col0\" >$96,427</td>\n",
       "    </tr>\n",
       "    <tr>\n",
       "      <th id=\"T_6143f_level0_row5\" class=\"row_heading level0 row5\" >50%</th>\n",
       "      <td id=\"T_6143f_row5_col0\" class=\"data row5 col0\" >$113,716</td>\n",
       "    </tr>\n",
       "    <tr>\n",
       "      <th id=\"T_6143f_level0_row6\" class=\"row_heading level0 row6\" >75%</th>\n",
       "      <td id=\"T_6143f_row6_col0\" class=\"data row6 col0\" >$139,223</td>\n",
       "    </tr>\n",
       "    <tr>\n",
       "      <th id=\"T_6143f_level0_row7\" class=\"row_heading level0 row7\" >max</th>\n",
       "      <td id=\"T_6143f_row7_col0\" class=\"data row7 col0\" >$9,999,999</td>\n",
       "    </tr>\n",
       "  </tbody>\n",
       "</table>\n"
      ],
      "text/plain": [
       "<pandas.io.formats.style.Styler at 0x170dd413250>"
      ]
     },
     "metadata": {},
     "output_type": "display_data"
    },
    {
     "data": {
      "image/png": "[encoded data removed]",
      "text/plain": [
       "<Figure size 600x300 with 1 Axes>"
      ]
     },
     "metadata": {},
     "output_type": "display_data"
    },
    {
     "data": {
      "text/markdown": [
       "**Issues Identified:**\n",
       "- *Negative/Unrealistic Salaries*: Values like -1000 or 9999999 detected.\n",
       "- *Invalid Dates*: Future (2026) or old (1900) dates present.\n",
       "- *Missing Data*: Null values in `name` and `position` columns."
      ],
      "text/plain": [
       "<IPython.core.display.Markdown object>"
      ]
     },
     "metadata": {},
     "output_type": "display_data"
    }
   ],
   "source": [
    "# Function to style DataFrame with highlights\n",
    "def style_errors_df(df):\n",
    "    def highlight_errors(val, col):\n",
    "        if col == 'salary' and (val < 60000 or val > 200000):\n",
    "            return 'background-color: #ffcccc'\n",
    "        if col == 'start_date':\n",
    "            try:\n",
    "                date_val = pd.Timestamp(val)\n",
    "                if date_val < pd.Timestamp('2015-01-01') or date_val > pd.Timestamp('2024-06-01'):\n",
    "                    return 'background-color: #ffcccc'\n",
    "            except Exception:\n",
    "                return 'background-color: #ffcccc'\n",
    "        if pd.isna(val):\n",
    "            return 'background-color: #ffff99'\n",
    "        return ''\n",
    "\n",
    "    styled = df.head(10).style.apply(lambda x: [highlight_errors(x[name], name) for name in x.index], axis=1)\n",
    "    styled = styled.format({'salary': '${:,.0f}', 'start_date': '{:%Y-%m-%d}', 'budget': '${:,.0f}'})\n",
    "    return styled.set_caption('First 10 Rows with Errors (Nulls: Yellow, Invalid Salaries/Dates: Red)')\n",
    "\n",
    "# Display enhanced output\n",
    "display(Markdown('### Data with Introduced Errors'))\n",
    "display(style_errors_df(df_employees_with_errors))\n",
    "\n",
    "# Null values table\n",
    "null_counts = df_employees_with_errors.isnull().sum().to_frame(name='Null Count')\n",
    "styled_nulls = null_counts.style.bar(subset=['Null Count'], color=\"#3f57b9\", vmin=0, vmax=null_counts['Null Count'].max())\n",
    "styled_nulls = styled_nulls.set_caption('Null Values by Column')\n",
    "display(Markdown('### Null Values'))\n",
    "display(styled_nulls)\n",
    "\n",
    "# Summary statistics with mini-plot\n",
    "display(Markdown('### Summary Statistics'))\n",
    "stats = df_employees_with_errors[['salary', 'start_date']].describe()\n",
    "styled_stats = stats.style.format({'salary': '${:,.0f}'}, na_rep='').set_caption('Salary and Date Statistics')\n",
    "display(styled_stats)\n",
    "\n",
    "# Mini-histogram for salaries\n",
    "plt.figure(figsize=(6, 3))\n",
    "sns.histplot(df_employees_with_errors['salary'], bins=20, color='salmon')\n",
    "plt.title('Salary Distribution (Note Outliers)')\n",
    "plt.xlabel('Salary ($)')\n",
    "plt.ylabel('Count')\n",
    "plt.tight_layout()\n",
    "plt.show()\n",
    "\n",
    "# Markdown summary\n",
    "display(Markdown(\n",
    "    '**Issues Identified:**\\n'\n",
    "    '- *Negative/Unrealistic Salaries*: Values like -1000 or 9999999 detected.\\n'\n",
    "    '- *Invalid Dates*: Future (2026) or old (1900) dates present.\\n'\n",
    "    '- *Missing Data*: Null values in `name` and `position` columns.'\n",
    "))"
   ]
  },
  {
   "cell_type": "markdown",
   "metadata": {},
   "source": [
    "## 2. Data Cleaning\n",
    "\n",
    "We check for missing values, incorrect data types, and inconsistencies:\n",
    "- **Missing Values**: Use `.isnull().sum()` to identify any null values.\n",
    "- **Data Types**: Ensure `start_date` is a datetime, `salary` and `budget` are numeric, and categorical columns (`position`, `dept_name`) are strings.\n",
    "- **Consistency**: Verify salaries are within expected ranges ($60,000–$200,000) and start dates are between 2015 and 2024."
   ]
  },
  {
   "cell_type": "code",
   "execution_count": 16,
   "metadata": {},
   "outputs": [
    {
     "data": {
      "text/markdown": [
       "## Data Cleaning Summary"
      ],
      "text/plain": [
       "<IPython.core.display.Markdown object>"
      ]
     },
     "metadata": {},
     "output_type": "display_data"
    },
    {
     "data": {
      "text/markdown": [
       "### Null Values (After Cleaning)"
      ],
      "text/plain": [
       "<IPython.core.display.Markdown object>"
      ]
     },
     "metadata": {},
     "output_type": "display_data"
    },
    {
     "name": "stderr",
     "output_type": "stream",
     "text": [
      "c:\\Users\\fasal\\OneDrive\\Desktop\\AIML\\Machine-Learning-Programming\\PROG8245_Lab3\\env\\Lib\\site-packages\\pandas\\io\\formats\\style.py:4040: RuntimeWarning: invalid value encountered in scalar divide\n",
      "  end = (x - left) / (right - left)\n"
     ]
    },
    {
     "data": {
      "text/html": [
       "<style type=\"text/css\">\n",
       "#T_f2052_row0_col0, #T_f2052_row1_col0, #T_f2052_row2_col0, #T_f2052_row3_col0, #T_f2052_row4_col0, #T_f2052_row5_col0, #T_f2052_row6_col0, #T_f2052_row7_col0, #T_f2052_row8_col0 {\n",
       "  width: 10em;\n",
       "}\n",
       "</style>\n",
       "<table id=\"T_f2052\">\n",
       "  <caption>Null Counts by Column</caption>\n",
       "  <thead>\n",
       "    <tr>\n",
       "      <th class=\"blank level0\" >&nbsp;</th>\n",
       "      <th id=\"T_f2052_level0_col0\" class=\"col_heading level0 col0\" >Null Count</th>\n",
       "    </tr>\n",
       "  </thead>\n",
       "  <tbody>\n",
       "    <tr>\n",
       "      <th id=\"T_f2052_level0_row0\" class=\"row_heading level0 row0\" >employee_id</th>\n",
       "      <td id=\"T_f2052_row0_col0\" class=\"data row0 col0\" >0</td>\n",
       "    </tr>\n",
       "    <tr>\n",
       "      <th id=\"T_f2052_level0_row1\" class=\"row_heading level0 row1\" >name</th>\n",
       "      <td id=\"T_f2052_row1_col0\" class=\"data row1 col0\" >0</td>\n",
       "    </tr>\n",
       "    <tr>\n",
       "      <th id=\"T_f2052_level0_row2\" class=\"row_heading level0 row2\" >position</th>\n",
       "      <td id=\"T_f2052_row2_col0\" class=\"data row2 col0\" >0</td>\n",
       "    </tr>\n",
       "    <tr>\n",
       "      <th id=\"T_f2052_level0_row3\" class=\"row_heading level0 row3\" >start_date</th>\n",
       "      <td id=\"T_f2052_row3_col0\" class=\"data row3 col0\" >0</td>\n",
       "    </tr>\n",
       "    <tr>\n",
       "      <th id=\"T_f2052_level0_row4\" class=\"row_heading level0 row4\" >salary</th>\n",
       "      <td id=\"T_f2052_row4_col0\" class=\"data row4 col0\" >0</td>\n",
       "    </tr>\n",
       "    <tr>\n",
       "      <th id=\"T_f2052_level0_row5\" class=\"row_heading level0 row5\" >dept_id</th>\n",
       "      <td id=\"T_f2052_row5_col0\" class=\"data row5 col0\" >0</td>\n",
       "    </tr>\n",
       "    <tr>\n",
       "      <th id=\"T_f2052_level0_row6\" class=\"row_heading level0 row6\" >dept_name</th>\n",
       "      <td id=\"T_f2052_row6_col0\" class=\"data row6 col0\" >0</td>\n",
       "    </tr>\n",
       "    <tr>\n",
       "      <th id=\"T_f2052_level0_row7\" class=\"row_heading level0 row7\" >location</th>\n",
       "      <td id=\"T_f2052_row7_col0\" class=\"data row7 col0\" >0</td>\n",
       "    </tr>\n",
       "    <tr>\n",
       "      <th id=\"T_f2052_level0_row8\" class=\"row_heading level0 row8\" >budget</th>\n",
       "      <td id=\"T_f2052_row8_col0\" class=\"data row8 col0\" >0</td>\n",
       "    </tr>\n",
       "  </tbody>\n",
       "</table>\n"
      ],
      "text/plain": [
       "<pandas.io.formats.style.Styler at 0x170dd6007d0>"
      ]
     },
     "metadata": {},
     "output_type": "display_data"
    },
    {
     "data": {
      "text/markdown": [
       "### Data Types (After Cleaning)"
      ],
      "text/plain": [
       "<IPython.core.display.Markdown object>"
      ]
     },
     "metadata": {},
     "output_type": "display_data"
    },
    {
     "data": {
      "text/html": [
       "<style type=\"text/css\">\n",
       "</style>\n",
       "<table id=\"T_03f46\">\n",
       "  <caption>Data Types</caption>\n",
       "  <thead>\n",
       "    <tr>\n",
       "      <th class=\"blank level0\" >&nbsp;</th>\n",
       "      <th id=\"T_03f46_level0_col0\" class=\"col_heading level0 col0\" >Data Type</th>\n",
       "    </tr>\n",
       "  </thead>\n",
       "  <tbody>\n",
       "    <tr>\n",
       "      <th id=\"T_03f46_level0_row0\" class=\"row_heading level0 row0\" >employee_id</th>\n",
       "      <td id=\"T_03f46_row0_col0\" class=\"data row0 col0\" >int64</td>\n",
       "    </tr>\n",
       "    <tr>\n",
       "      <th id=\"T_03f46_level0_row1\" class=\"row_heading level0 row1\" >name</th>\n",
       "      <td id=\"T_03f46_row1_col0\" class=\"data row1 col0\" >object</td>\n",
       "    </tr>\n",
       "    <tr>\n",
       "      <th id=\"T_03f46_level0_row2\" class=\"row_heading level0 row2\" >position</th>\n",
       "      <td id=\"T_03f46_row2_col0\" class=\"data row2 col0\" >object</td>\n",
       "    </tr>\n",
       "    <tr>\n",
       "      <th id=\"T_03f46_level0_row3\" class=\"row_heading level0 row3\" >start_date</th>\n",
       "      <td id=\"T_03f46_row3_col0\" class=\"data row3 col0\" >datetime64[ns]</td>\n",
       "    </tr>\n",
       "    <tr>\n",
       "      <th id=\"T_03f46_level0_row4\" class=\"row_heading level0 row4\" >salary</th>\n",
       "      <td id=\"T_03f46_row4_col0\" class=\"data row4 col0\" >int64</td>\n",
       "    </tr>\n",
       "    <tr>\n",
       "      <th id=\"T_03f46_level0_row5\" class=\"row_heading level0 row5\" >dept_id</th>\n",
       "      <td id=\"T_03f46_row5_col0\" class=\"data row5 col0\" >int64</td>\n",
       "    </tr>\n",
       "    <tr>\n",
       "      <th id=\"T_03f46_level0_row6\" class=\"row_heading level0 row6\" >dept_name</th>\n",
       "      <td id=\"T_03f46_row6_col0\" class=\"data row6 col0\" >object</td>\n",
       "    </tr>\n",
       "    <tr>\n",
       "      <th id=\"T_03f46_level0_row7\" class=\"row_heading level0 row7\" >location</th>\n",
       "      <td id=\"T_03f46_row7_col0\" class=\"data row7 col0\" >object</td>\n",
       "    </tr>\n",
       "    <tr>\n",
       "      <th id=\"T_03f46_level0_row8\" class=\"row_heading level0 row8\" >budget</th>\n",
       "      <td id=\"T_03f46_row8_col0\" class=\"data row8 col0\" >int64</td>\n",
       "    </tr>\n",
       "  </tbody>\n",
       "</table>\n"
      ],
      "text/plain": [
       "<pandas.io.formats.style.Styler at 0x170dd570410>"
      ]
     },
     "metadata": {},
     "output_type": "display_data"
    },
    {
     "data": {
      "text/markdown": [
       "### Value Ranges (After Cleaning)"
      ],
      "text/plain": [
       "<IPython.core.display.Markdown object>"
      ]
     },
     "metadata": {},
     "output_type": "display_data"
    },
    {
     "data": {
      "text/html": [
       "<style type=\"text/css\">\n",
       "</style>\n",
       "<table id=\"T_fd67e\">\n",
       "  <caption>Salary and Start Date Ranges</caption>\n",
       "  <thead>\n",
       "    <tr>\n",
       "      <th class=\"blank level0\" >&nbsp;</th>\n",
       "      <th id=\"T_fd67e_level0_col0\" class=\"col_heading level0 col0\" >Salary Min</th>\n",
       "      <th id=\"T_fd67e_level0_col1\" class=\"col_heading level0 col1\" >Salary Max</th>\n",
       "      <th id=\"T_fd67e_level0_col2\" class=\"col_heading level0 col2\" >Date Min</th>\n",
       "      <th id=\"T_fd67e_level0_col3\" class=\"col_heading level0 col3\" >Date Max</th>\n",
       "    </tr>\n",
       "  </thead>\n",
       "  <tbody>\n",
       "    <tr>\n",
       "      <th id=\"T_fd67e_level0_row0\" class=\"row_heading level0 row0\" >0</th>\n",
       "      <td id=\"T_fd67e_row0_col0\" class=\"data row0 col0\" >$60,000</td>\n",
       "      <td id=\"T_fd67e_row0_col1\" class=\"data row0 col1\" >$200,000</td>\n",
       "      <td id=\"T_fd67e_row0_col2\" class=\"data row0 col2\" >2015-01-01</td>\n",
       "      <td id=\"T_fd67e_row0_col3\" class=\"data row0 col3\" >2024-05-30</td>\n",
       "    </tr>\n",
       "  </tbody>\n",
       "</table>\n"
      ],
      "text/plain": [
       "<pandas.io.formats.style.Styler at 0x170dd6007d0>"
      ]
     },
     "metadata": {},
     "output_type": "display_data"
    },
    {
     "data": {
      "text/markdown": [
       "\n",
       "### Summary of Cleaning Actions\n",
       "- Filled missing `name` with `\"Unknown\"`\n",
       "- Filled missing `position` with `\"Unspecified\"`\n",
       "- Clipped `salary` to the range $60,000 – $200,000\n",
       "- Reset invalid `start_date` values to `2015-01-01`\n"
      ],
      "text/plain": [
       "<IPython.core.display.Markdown object>"
      ]
     },
     "metadata": {},
     "output_type": "display_data"
    }
   ],
   "source": [
    "# Section Header\n",
    "display(Markdown('## Data Cleaning Summary'))\n",
    "\n",
    "# Clean a copy of the original DataFrame\n",
    "df_cleaned = df_employees_with_errors.copy()\n",
    "\n",
    "# Perform cleaning\n",
    "df_cleaned['name'] = df_cleaned['name'].fillna('Unknown')\n",
    "df_cleaned['position'] = df_cleaned['position'].fillna('Unspecified')\n",
    "df_cleaned['salary'] = df_cleaned['salary'].clip(lower=60000, upper=200000)\n",
    "df_cleaned['start_date'] = pd.to_datetime(df_cleaned['start_date'], errors='coerce')\n",
    "valid_date_range = df_cleaned['start_date'].between('2015-01-01', '2024-06-01')\n",
    "df_cleaned.loc[~valid_date_range, 'start_date'] = pd.to_datetime('2015-01-01')\n",
    "\n",
    "# Display: Null Values\n",
    "display(Markdown('### Null Values (After Cleaning)'))\n",
    "nulls = df_cleaned.isnull().sum().to_frame(name='Null Count')\n",
    "display(nulls.style.bar(color='#99ff99').set_caption('Null Counts by Column'))\n",
    "\n",
    "# Display: Data Types\n",
    "display(Markdown('### Data Types (After Cleaning)'))\n",
    "dtypes = df_cleaned.dtypes.to_frame(name='Data Type')\n",
    "display(dtypes.style.set_caption('Data Types'))\n",
    "\n",
    "# Display: Salary and Date Ranges\n",
    "display(Markdown('### Value Ranges (After Cleaning)'))\n",
    "ranges = pd.DataFrame({\n",
    "    'Salary Min': [df_cleaned['salary'].min()],\n",
    "    'Salary Max': [df_cleaned['salary'].max()],\n",
    "    'Date Min': [df_cleaned['start_date'].min()],\n",
    "    'Date Max': [df_cleaned['start_date'].max()]\n",
    "})\n",
    "display(\n",
    "    ranges.style.format({\n",
    "        'Salary Min': '${:,.0f}', \n",
    "        'Salary Max': '${:,.0f}', \n",
    "        'Date Min': '{:%Y-%m-%d}', \n",
    "        'Date Max': '{:%Y-%m-%d}'\n",
    "    }).set_caption('Salary and Start Date Ranges')\n",
    ")\n",
    "\n",
    "# Cleaning summary\n",
    "display(Markdown(\"\"\"\n",
    "### Summary of Cleaning Actions\n",
    "- Filled missing `name` with `\"Unknown\"`\n",
    "- Filled missing `position` with `\"Unspecified\"`\n",
    "- Clipped `salary` to the range $60,000 – $200,000\n",
    "- Reset invalid `start_date` values to `2015-01-01`\n",
    "\"\"\"))\n",
    "\n",
    "# Store cleaned version for further use\n",
    "df_employees = df_cleaned\n"
   ]
  },
  {
   "cell_type": "markdown",
   "metadata": {},
   "source": [
    "## 3. Data Transformation & Feature Engineering\n",
    "\n",
    "We use the `EmployeeAnalyzer` class to transform the data and engineer new features:\n",
    "- **start_year**: Extracted from `start_date` to analyze hiring trends.\n",
    "- **years_service**: Calculated as the number of years from `start_date` to the current date.\n",
    "- **salary_scaled**: Normalized salary using `StandardScaler` to facilitate comparisons."
   ]
  },
  {
   "cell_type": "code",
   "execution_count": 17,
   "metadata": {},
   "outputs": [
    {
     "data": {
      "application/vnd.microsoft.datawrangler.viewer.v0+json": {
       "columns": [
        {
         "name": "index",
         "rawType": "int64",
         "type": "integer"
        },
        {
         "name": "employee_id",
         "rawType": "int64",
         "type": "integer"
        },
        {
         "name": "name",
         "rawType": "object",
         "type": "string"
        },
        {
         "name": "position",
         "rawType": "object",
         "type": "string"
        },
        {
         "name": "start_date",
         "rawType": "datetime64[ns]",
         "type": "datetime"
        },
        {
         "name": "salary",
         "rawType": "int64",
         "type": "integer"
        },
        {
         "name": "dept_id",
         "rawType": "int64",
         "type": "integer"
        },
        {
         "name": "dept_name",
         "rawType": "object",
         "type": "string"
        },
        {
         "name": "location",
         "rawType": "object",
         "type": "string"
        },
        {
         "name": "budget",
         "rawType": "int64",
         "type": "integer"
        },
        {
         "name": "start_year",
         "rawType": "int32",
         "type": "integer"
        },
        {
         "name": "years_service",
         "rawType": "int64",
         "type": "integer"
        },
        {
         "name": "salary_scaled",
         "rawType": "float64",
         "type": "float"
        }
       ],
       "ref": "7b8e2fa9-0763-4248-960f-1d6cd555cd9f",
       "rows": [
        [
         "0",
         "7",
         "Tyler Rogers",
         "Data Analyst",
         "2016-07-30 00:00:00",
         "112124",
         "2",
         "Data Science",
         "New York",
         "3000000",
         "2016",
         "8",
         "-0.14535477991508103"
        ],
        [
         "1",
         "8",
         "Ian Cooper",
         "DevOps Engineer",
         "2019-07-02 00:00:00",
         "137089",
         "4",
         "Product",
         "Austin",
         "2500000",
         "2019",
         "5",
         "0.6465096459280023"
        ],
        [
         "2",
         "9",
         "Monica Herrera",
         "DevOps Engineer",
         "2021-06-10 00:00:00",
         "105568",
         "2",
         "Data Science",
         "New York",
         "3000000",
         "2021",
         "3",
         "-0.3533044364673444"
        ],
        [
         "3",
         "10",
         "Edward Fuller",
         "Software Engineer",
         "2021-02-25 00:00:00",
         "104649",
         "1",
         "Engineering",
         "San Francisco",
         "5000000",
         "2021",
         "4",
         "-0.38245418240564977"
        ],
        [
         "4",
         "11",
         "Michele Williams",
         "Data Analyst",
         "2018-11-17 00:00:00",
         "105875",
         "2",
         "Data Science",
         "New York",
         "3000000",
         "2018",
         "6",
         "-0.3435667084988354"
        ]
       ],
       "shape": {
        "columns": 12,
        "rows": 5
       }
      },
      "text/html": [
       "<div>\n",
       "<style scoped>\n",
       "    .dataframe tbody tr th:only-of-type {\n",
       "        vertical-align: middle;\n",
       "    }\n",
       "\n",
       "    .dataframe tbody tr th {\n",
       "        vertical-align: top;\n",
       "    }\n",
       "\n",
       "    .dataframe thead th {\n",
       "        text-align: right;\n",
       "    }\n",
       "</style>\n",
       "<table border=\"1\" class=\"dataframe\">\n",
       "  <thead>\n",
       "    <tr style=\"text-align: right;\">\n",
       "      <th></th>\n",
       "      <th>employee_id</th>\n",
       "      <th>name</th>\n",
       "      <th>position</th>\n",
       "      <th>start_date</th>\n",
       "      <th>salary</th>\n",
       "      <th>dept_id</th>\n",
       "      <th>dept_name</th>\n",
       "      <th>location</th>\n",
       "      <th>budget</th>\n",
       "      <th>start_year</th>\n",
       "      <th>years_service</th>\n",
       "      <th>salary_scaled</th>\n",
       "    </tr>\n",
       "  </thead>\n",
       "  <tbody>\n",
       "    <tr>\n",
       "      <th>0</th>\n",
       "      <td>7</td>\n",
       "      <td>Tyler Rogers</td>\n",
       "      <td>Data Analyst</td>\n",
       "      <td>2016-07-30</td>\n",
       "      <td>112124</td>\n",
       "      <td>2</td>\n",
       "      <td>Data Science</td>\n",
       "      <td>New York</td>\n",
       "      <td>3000000</td>\n",
       "      <td>2016</td>\n",
       "      <td>8</td>\n",
       "      <td>-0.145355</td>\n",
       "    </tr>\n",
       "    <tr>\n",
       "      <th>1</th>\n",
       "      <td>8</td>\n",
       "      <td>Ian Cooper</td>\n",
       "      <td>DevOps Engineer</td>\n",
       "      <td>2019-07-02</td>\n",
       "      <td>137089</td>\n",
       "      <td>4</td>\n",
       "      <td>Product</td>\n",
       "      <td>Austin</td>\n",
       "      <td>2500000</td>\n",
       "      <td>2019</td>\n",
       "      <td>5</td>\n",
       "      <td>0.646510</td>\n",
       "    </tr>\n",
       "    <tr>\n",
       "      <th>2</th>\n",
       "      <td>9</td>\n",
       "      <td>Monica Herrera</td>\n",
       "      <td>DevOps Engineer</td>\n",
       "      <td>2021-06-10</td>\n",
       "      <td>105568</td>\n",
       "      <td>2</td>\n",
       "      <td>Data Science</td>\n",
       "      <td>New York</td>\n",
       "      <td>3000000</td>\n",
       "      <td>2021</td>\n",
       "      <td>3</td>\n",
       "      <td>-0.353304</td>\n",
       "    </tr>\n",
       "    <tr>\n",
       "      <th>3</th>\n",
       "      <td>10</td>\n",
       "      <td>Edward Fuller</td>\n",
       "      <td>Software Engineer</td>\n",
       "      <td>2021-02-25</td>\n",
       "      <td>104649</td>\n",
       "      <td>1</td>\n",
       "      <td>Engineering</td>\n",
       "      <td>San Francisco</td>\n",
       "      <td>5000000</td>\n",
       "      <td>2021</td>\n",
       "      <td>4</td>\n",
       "      <td>-0.382454</td>\n",
       "    </tr>\n",
       "    <tr>\n",
       "      <th>4</th>\n",
       "      <td>11</td>\n",
       "      <td>Michele Williams</td>\n",
       "      <td>Data Analyst</td>\n",
       "      <td>2018-11-17</td>\n",
       "      <td>105875</td>\n",
       "      <td>2</td>\n",
       "      <td>Data Science</td>\n",
       "      <td>New York</td>\n",
       "      <td>3000000</td>\n",
       "      <td>2018</td>\n",
       "      <td>6</td>\n",
       "      <td>-0.343567</td>\n",
       "    </tr>\n",
       "  </tbody>\n",
       "</table>\n",
       "</div>"
      ],
      "text/plain": [
       "   employee_id              name           position start_date  salary  \\\n",
       "0            7      Tyler Rogers       Data Analyst 2016-07-30  112124   \n",
       "1            8        Ian Cooper    DevOps Engineer 2019-07-02  137089   \n",
       "2            9    Monica Herrera    DevOps Engineer 2021-06-10  105568   \n",
       "3           10     Edward Fuller  Software Engineer 2021-02-25  104649   \n",
       "4           11  Michele Williams       Data Analyst 2018-11-17  105875   \n",
       "\n",
       "   dept_id     dept_name       location   budget  start_year  years_service  \\\n",
       "0        2  Data Science       New York  3000000        2016              8   \n",
       "1        4       Product         Austin  2500000        2019              5   \n",
       "2        2  Data Science       New York  3000000        2021              3   \n",
       "3        1   Engineering  San Francisco  5000000        2021              4   \n",
       "4        2  Data Science       New York  3000000        2018              6   \n",
       "\n",
       "   salary_scaled  \n",
       "0      -0.145355  \n",
       "1       0.646510  \n",
       "2      -0.353304  \n",
       "3      -0.382454  \n",
       "4      -0.343567  "
      ]
     },
     "execution_count": 17,
     "metadata": {},
     "output_type": "execute_result"
    }
   ],
   "source": [
    "from sklearn.preprocessing import StandardScaler\n",
    "\n",
    "class EmployeeAnalyzer:\n",
    "    \"\"\"Comprehensive EDA and analysis toolkit\"\"\"\n",
    "    \n",
    "    def __init__(self, df):\n",
    "        self.df = df.copy()  # Avoid modifying original DataFrame\n",
    "        self._prepare_data()\n",
    "        \n",
    "    def _prepare_data(self):\n",
    "        \"\"\"Data cleaning and feature engineering\"\"\"\n",
    "        self.df['start_year'] = pd.to_datetime(self.df['start_date']).dt.year\n",
    "        self.df['years_service'] = (pd.Timestamp.now() - pd.to_datetime(self.df['start_date'])).dt.days // 365\n",
    "        \n",
    "        # Salary normalization\n",
    "        scaler = StandardScaler()\n",
    "        self.df['salary_scaled'] = scaler.fit_transform(self.df[['salary']])\n",
    "        \n",
    "    def get_summary_stats(self):\n",
    "        \"\"\"Generate professional summary statistics\"\"\"\n",
    "        return {\n",
    "            'position_distribution': self.df['position'].value_counts(),\n",
    "            'salary_by_position': self.df.groupby('position')['salary'].describe(),\n",
    "            'hiring_trends': self.df['start_year'].value_counts().sort_index(),\n",
    "            'dept_distribution': self.df['dept_name'].value_counts()\n",
    "        }\n",
    "\n",
    "# Initialize analyzer\n",
    "analyzer = EmployeeAnalyzer(df_employees)\n",
    "\n",
    "# Display transformed DataFrame\n",
    "analyzer.df.head()"
   ]
  },
  {
   "cell_type": "markdown",
   "metadata": {},
   "source": [
    "## 4. Scaling\n",
    "\n",
    "The `EmployeeAnalyzer` class applies `StandardScaler` to the `salary` column, creating `salary_scaled`. This normalization (mean=0, std=1) helps compare salaries across positions and departments without the influence of different scales."
   ]
  },
  {
   "cell_type": "markdown",
   "metadata": {},
   "source": [
    "## 5. Exploratory Data Analysis\n",
    "\n",
    "We use Pandas to generate descriptive statistics:\n",
    "- **.info()**: Check DataFrame structure and data types.\n",
    "- **.describe()**: Summarize numeric columns (salary, years_service, budget).\n",
    "- **Custom Stats**: Use `EmployeeAnalyzer.get_summary_stats()` to analyze position distribution, salary by position, hiring trends, and department distribution."
   ]
  },
  {
   "cell_type": "code",
   "execution_count": 22,
   "metadata": {},
   "outputs": [
    {
     "data": {
      "text/markdown": [
       "## Exploratory Data Analysis"
      ],
      "text/plain": [
       "<IPython.core.display.Markdown object>"
      ]
     },
     "metadata": {},
     "output_type": "display_data"
    },
    {
     "data": {
      "text/html": [
       "<pre><class 'pandas.core.frame.DataFrame'>\n",
       "RangeIndex: 50 entries, 0 to 49\n",
       "Data columns (total 9 columns):\n",
       " #   Column       Non-Null Count  Dtype         \n",
       "---  ------       --------------  -----         \n",
       " 0   employee_id  50 non-null     int64         \n",
       " 1   name         50 non-null     object        \n",
       " 2   position     50 non-null     object        \n",
       " 3   start_date   50 non-null     datetime64[ns]\n",
       " 4   salary       50 non-null     int64         \n",
       " 5   dept_id      50 non-null     int64         \n",
       " 6   dept_name    50 non-null     object        \n",
       " 7   location     50 non-null     object        \n",
       " 8   budget       50 non-null     int64         \n",
       "dtypes: datetime64[ns](1), int64(4), object(4)\n",
       "memory usage: 3.6+ KB\n",
       "</pre>"
      ],
      "text/plain": [
       "<IPython.core.display.HTML object>"
      ]
     },
     "metadata": {},
     "output_type": "display_data"
    },
    {
     "data": {
      "text/markdown": [
       "### Descriptive Statistics"
      ],
      "text/plain": [
       "<IPython.core.display.Markdown object>"
      ]
     },
     "metadata": {},
     "output_type": "display_data"
    },
    {
     "data": {
      "text/html": [
       "<style type=\"text/css\">\n",
       "</style>\n",
       "<table id=\"T_f3b48\">\n",
       "  <caption>Descriptive Statistics</caption>\n",
       "  <thead>\n",
       "    <tr>\n",
       "      <th class=\"blank level0\" >&nbsp;</th>\n",
       "      <th id=\"T_f3b48_level0_col0\" class=\"col_heading level0 col0\" >salary</th>\n",
       "      <th id=\"T_f3b48_level0_col1\" class=\"col_heading level0 col1\" >years_service</th>\n",
       "      <th id=\"T_f3b48_level0_col2\" class=\"col_heading level0 col2\" >budget</th>\n",
       "    </tr>\n",
       "  </thead>\n",
       "  <tbody>\n",
       "    <tr>\n",
       "      <th id=\"T_f3b48_level0_row0\" class=\"row_heading level0 row0\" >count</th>\n",
       "      <td id=\"T_f3b48_row0_col0\" class=\"data row0 col0\" >$50</td>\n",
       "      <td id=\"T_f3b48_row0_col1\" class=\"data row0 col1\" >$50</td>\n",
       "      <td id=\"T_f3b48_row0_col2\" class=\"data row0 col2\" >$50</td>\n",
       "    </tr>\n",
       "    <tr>\n",
       "      <th id=\"T_f3b48_level0_row1\" class=\"row_heading level0 row1\" >mean</th>\n",
       "      <td id=\"T_f3b48_row1_col0\" class=\"data row1 col0\" >$116,707</td>\n",
       "      <td id=\"T_f3b48_row1_col1\" class=\"data row1 col1\" >$5</td>\n",
       "      <td id=\"T_f3b48_row1_col2\" class=\"data row1 col2\" >$3,440,000</td>\n",
       "    </tr>\n",
       "    <tr>\n",
       "      <th id=\"T_f3b48_level0_row2\" class=\"row_heading level0 row2\" >std</th>\n",
       "      <td id=\"T_f3b48_row2_col0\" class=\"data row2 col0\" >$31,847</td>\n",
       "      <td id=\"T_f3b48_row2_col1\" class=\"data row2 col1\" >$3</td>\n",
       "      <td id=\"T_f3b48_row2_col2\" class=\"data row2 col2\" >$1,150,155</td>\n",
       "    </tr>\n",
       "    <tr>\n",
       "      <th id=\"T_f3b48_level0_row3\" class=\"row_heading level0 row3\" >min</th>\n",
       "      <td id=\"T_f3b48_row3_col0\" class=\"data row3 col0\" >$60,000</td>\n",
       "      <td id=\"T_f3b48_row3_col1\" class=\"data row3 col1\" >$1</td>\n",
       "      <td id=\"T_f3b48_row3_col2\" class=\"data row3 col2\" >$2,000,000</td>\n",
       "    </tr>\n",
       "    <tr>\n",
       "      <th id=\"T_f3b48_level0_row4\" class=\"row_heading level0 row4\" >25%</th>\n",
       "      <td id=\"T_f3b48_row4_col0\" class=\"data row4 col0\" >$96,427</td>\n",
       "      <td id=\"T_f3b48_row4_col1\" class=\"data row4 col1\" >$2</td>\n",
       "      <td id=\"T_f3b48_row4_col2\" class=\"data row4 col2\" >$2,500,000</td>\n",
       "    </tr>\n",
       "    <tr>\n",
       "      <th id=\"T_f3b48_level0_row5\" class=\"row_heading level0 row5\" >50%</th>\n",
       "      <td id=\"T_f3b48_row5_col0\" class=\"data row5 col0\" >$113,716</td>\n",
       "      <td id=\"T_f3b48_row5_col1\" class=\"data row5 col1\" >$6</td>\n",
       "      <td id=\"T_f3b48_row5_col2\" class=\"data row5 col2\" >$3,000,000</td>\n",
       "    </tr>\n",
       "    <tr>\n",
       "      <th id=\"T_f3b48_level0_row6\" class=\"row_heading level0 row6\" >75%</th>\n",
       "      <td id=\"T_f3b48_row6_col0\" class=\"data row6 col0\" >$139,223</td>\n",
       "      <td id=\"T_f3b48_row6_col1\" class=\"data row6 col1\" >$8</td>\n",
       "      <td id=\"T_f3b48_row6_col2\" class=\"data row6 col2\" >$5,000,000</td>\n",
       "    </tr>\n",
       "    <tr>\n",
       "      <th id=\"T_f3b48_level0_row7\" class=\"row_heading level0 row7\" >max</th>\n",
       "      <td id=\"T_f3b48_row7_col0\" class=\"data row7 col0\" >$200,000</td>\n",
       "      <td id=\"T_f3b48_row7_col1\" class=\"data row7 col1\" >$10</td>\n",
       "      <td id=\"T_f3b48_row7_col2\" class=\"data row7 col2\" >$5,000,000</td>\n",
       "    </tr>\n",
       "  </tbody>\n",
       "</table>\n"
      ],
      "text/plain": [
       "<pandas.io.formats.style.Styler at 0x170e083bb10>"
      ]
     },
     "metadata": {},
     "output_type": "display_data"
    },
    {
     "data": {
      "application/vnd.jupyter.widget-view+json": {
       "model_id": "771de794c86846e9a8d14720eb595d0f",
       "version_major": 2,
       "version_minor": 0
      },
      "text/plain": [
       "interactive(children=(Dropdown(description='stat', options=('Position Distribution', 'Salary by Position', 'Hi…"
      ]
     },
     "metadata": {},
     "output_type": "display_data"
    },
    {
     "data": {
      "text/markdown": [
       "**EDA Key Findings:**\n",
       "- *Position Distribution*: Balanced across Software Engineer, Data Analyst, and DevOps Engineer.\n",
       "- *Salary by Position*: DevOps Engineers have the highest average salaries.\n",
       "- *Hiring Trends*: Varies by year, with peaks indicating hiring surges.\n",
       "- *Department Distribution*: Engineering and Data Science have the most employees."
      ],
      "text/plain": [
       "<IPython.core.display.Markdown object>"
      ]
     },
     "metadata": {},
     "output_type": "display_data"
    }
   ],
   "source": [
    "# Enhanced EDA display\n",
    "display(Markdown('## Exploratory Data Analysis'))\n",
    "\n",
    "info_buffer = io.StringIO()\n",
    "df_employees.info(buf=info_buffer)\n",
    "info_str = info_buffer.getvalue()\n",
    "display(HTML(f'<pre>{info_str}</pre>'))\n",
    "\n",
    "# Descriptive statistics\n",
    "desc_stats = analyzer.df[['salary', 'years_service', 'budget']].describe()\n",
    "styled_desc = desc_stats.style.format('${:,.0f}', na_rep='').set_caption('Descriptive Statistics')\n",
    "display(Markdown('### Descriptive Statistics'))\n",
    "display(styled_desc)\n",
    "\n",
    "# Interactive custom stats\n",
    "stats = analyzer.get_summary_stats()\n",
    "@interact(stat=['Position Distribution', 'Salary by Position', 'Hiring Trends', 'Department Distribution'])\n",
    "def display_custom_stats(stat):\n",
    "    display(Markdown(f'### {stat}'))\n",
    "    if stat == 'Position Distribution':\n",
    "        df = stats['position_distribution'].to_frame(name='Count')\n",
    "        styled = df.style.bar(subset=['Count'], color='#66cc99').set_caption('Position Distribution')\n",
    "        display(styled)\n",
    "    elif stat == 'Salary by Position':\n",
    "        styled = stats['salary_by_position'].style.format('${:,.0f}', na_rep='').set_caption('Salary by Position')\n",
    "        display(styled)\n",
    "    elif stat == 'Hiring Trends':\n",
    "        df = stats['hiring_trends'].to_frame(name='Count')\n",
    "        styled = df.style.bar(subset=['Count'], color='#66cc99').set_caption('Hiring Trends')\n",
    "        display(styled)\n",
    "        plt.figure(figsize=(6, 3))\n",
    "        sns.lineplot(x=df.index, y=df['Count'], marker='o', color='teal')\n",
    "        plt.title('Hiring Trends Over Time')\n",
    "        plt.xlabel('Year')\n",
    "        plt.ylabel('Number of Hires')\n",
    "        plt.tight_layout()\n",
    "        plt.show()\n",
    "    elif stat == 'Department Distribution':\n",
    "        df = stats['dept_distribution'].to_frame(name='Count')\n",
    "        styled = df.style.bar(subset=['Count'], color='#66cc99').set_caption('Department Distribution')\n",
    "        display(styled)\n",
    "\n",
    "# Markdown summary\n",
    "display(Markdown(\n",
    "    '**EDA Key Findings:**\\n'\n",
    "    '- *Position Distribution*: Balanced across Software Engineer, Data Analyst, and DevOps Engineer.\\n'\n",
    "    '- *Salary by Position*: DevOps Engineers have the highest average salaries.\\n'\n",
    "    '- *Hiring Trends*: Varies by year, with peaks indicating hiring surges.\\n'\n",
    "    '- *Department Distribution*: Engineering and Data Science have the most employees.'\n",
    "))"
   ]
  },
  {
   "cell_type": "markdown",
   "metadata": {},
   "source": [
    "## 6. Visualization 1: Average Salary by Position and Start Year\n",
    "\n",
    "We use the `plot_enhanced_salary_chart` function to create a grouped bar chart showing average salaries by position and start year. The chart uses professional formatting, including currency labels, rotated x-ticks, and data annotations."
   ]
  },
  {
   "cell_type": "code",
   "execution_count": null,
   "metadata": {},
   "outputs": [
    {
     "data": {
      "image/png": "[encoded data removed]",
      "text/plain": [
       "<Figure size 1400x800 with 1 Axes>"
      ]
     },
     "metadata": {},
     "output_type": "display_data"
    }
   ],
   "source": [
    "import matplotlib.pyplot as plt\n",
    "import seaborn as sns\n",
    "\n",
    "def plot_enhanced_salary_chart(df, figsize=(14, 8)):\n",
    "    \"\"\"Professional version of salary visualization\"\"\"\n",
    "    plt.figure(figsize=figsize)\n",
    "    sns.set_style(\"whitegrid\")\n",
    "    \n",
    "    ax = sns.barplot(\n",
    "        x='position', \n",
    "        y='salary', \n",
    "        hue='start_year',\n",
    "        data=df,\n",
    "        estimator='mean',\n",
    "        palette='viridis',\n",
    "        errorbar=None\n",
    "    )\n",
    "    \n",
    "    # Professional formatting\n",
    "    ax.yaxis.set_major_formatter('${x:,.0f}')\n",
    "    plt.xticks(rotation=45, ha='right')\n",
    "    plt.xlabel('Position', fontsize=12)\n",
    "    plt.ylabel('Average Salary', fontsize=12)\n",
    "    plt.title('Salary Distribution by Position and Start Year\\nProfessional Analysis', \n",
    "             fontsize=14, pad=20)\n",
    "    \n",
    "    # Add data labels\n",
    "    for p in ax.patches:\n",
    "        height = p.get_height()\n",
    "        if not pd.isna(height):\n",
    "            ax.annotate(f'${height:,.0f}', \n",
    "                        (p.get_x() + p.get_width() / 2., height),\n",
    "                        ha='center', va='center', \n",
    "                        xytext=(0, 9), \n",
    "                        textcoords='offset points')\n",
    "    \n",
    "    plt.tight_layout()\n",
    "    plt.show()\n",
    "\n",
    "# Plot the chart\n",
    "plot_enhanced_salary_chart(analyzer.df)"
   ]
  },
  {
   "cell_type": "markdown",
   "metadata": {},
   "source": [
    "### Insights from Visualization 1\n",
    "- **Salary Trends**: DevOps Engineers consistently have the highest average salaries, reflecting their specialized skill set. Data Analysts have the lowest, aligning with the salary ranges defined.\n",
    "- **Temporal Patterns**: Salaries appear to increase slightly over time for most positions, possibly reflecting inflation or market trends.\n",
    "- **Position Distribution**: The chart highlights which positions have more hires in certain years, indicating hiring trends."
   ]
  },
  {
   "cell_type": "markdown",
   "metadata": {},
   "source": [
    "## 7. Visualization 2: Heatmap of Average Salary by Department and Position\n",
    "\n",
    "For the advanced visualization, we use the joined employee and department data to create a heatmap showing average salaries by department and position. This visualization leverages the additional department table to provide deeper insights."
   ]
  },
  {
   "cell_type": "code",
   "execution_count": null,
   "metadata": {},
   "outputs": [
    {
     "data": {
      "image/png": "[encoded data removed]",
      "text/plain": [
       "<Figure size 1000x800 with 2 Axes>"
      ]
     },
     "metadata": {},
     "output_type": "display_data"
    }
   ],
   "source": [
    "# Create pivot table for heatmap\n",
    "pivot_table = analyzer.df.pivot_table(values='salary', index='dept_name', columns='position', aggfunc='mean')\n",
    "\n",
    "# Plot heatmap\n",
    "plt.figure(figsize=(10, 8))\n",
    "sns.heatmap(pivot_table, annot=True, fmt='.0f', cmap='YlGnBu', cbar_kws={'label': 'Average Salary ($)'})\n",
    "plt.title('Average Salary by Department and Position', fontsize=14, pad=20)\n",
    "plt.xlabel('Position', fontsize=12)\n",
    "plt.ylabel('Department', fontsize=12)\n",
    "plt.tight_layout()\n",
    "plt.show()"
   ]
  },
  {
   "cell_type": "markdown",
   "metadata": {},
   "source": [
    "### Insights from Visualization 2\n",
    "- **Departmental Variations**: The Engineering department tends to pay higher salaries for DevOps Engineers, possibly due to its larger budget ($5M).\n",
    "- **Position Consistency**: Data Analysts have lower salaries across all departments, while DevOps Engineers have the highest, consistent with the first visualization.\n",
    "- **Budget Impact**: Departments with higher budgets (e.g., Engineering, Research) show slightly higher salaries, suggesting budget influences compensation.\n",
    "- **Sparse Data**: Some department-position combinations may have fewer employees, leading to variability in averages."
   ]
  },
  {
   "cell_type": "markdown",
   "metadata": {},
   "source": [
    "## 8. Insights & Conclusions\n",
    "\n",
    "### Key Findings\n",
    "- **Data Quality**: The synthetic dataset was clean, with no missing values and consistent data types. Salaries and dates were within expected ranges.\n",
    "- **Hiring Trends**: Hiring was distributed across 2015–2024, with some years showing higher activity, possibly reflecting business growth phases.\n",
    "- **Salary Insights**: DevOps Engineers earn the most, followed by Software Engineers, then Data Analysts. Salaries vary by department, with higher-budget departments paying more.\n",
    "- **Departmental Analysis**: The Engineering department has the highest salaries and budget, while Operations has the lowest, reflecting resource allocation.\n",
    "\n",
    "### Technical Achievements\n",
    "- Successfully set up a Neon.tech PostgreSQL database and populated it with synthetic data.\n",
    "- Implemented secure database connectivity using environment variables and SSL.\n",
    "- Performed comprehensive EDA with feature engineering (years_service, salary_scaled) and scaling.\n",
    "- Created professional visualizations, including a grouped bar chart and a heatmap, to uncover salary trends.\n",
    "\n",
    "### Future Work\n",
    "- Add more positions and departments for richer analysis.\n",
    "- Incorporate performance metrics or project assignments to analyze productivity alongside salaries.\n",
    "- Use statistical tests to validate salary differences across departments and positions."
   ]
  }
 ],
 "metadata": {
  "kernelspec": {
   "display_name": "env",
   "language": "python",
   "name": "python3"
  },
  "language_info": {
   "codemirror_mode": {
    "name": "ipython",
    "version": 3
   },
   "file_extension": ".py",
   "mimetype": "text/x-python",
   "name": "python",
   "nbconvert_exporter": "python",
   "pygments_lexer": "ipython3",
   "version": "3.13.3"
  }
 },
 "nbformat": 4,
 "nbformat_minor": 4
}
